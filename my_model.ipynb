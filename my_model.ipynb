{
  "nbformat": 4,
  "nbformat_minor": 0,
  "metadata": {
    "colab": {
      "provenance": [],
      "mount_file_id": "1mubPDyFb1Su7-cBpDgZVaL7ZtFyWw9e_",
      "authorship_tag": "ABX9TyNTp4FWBiYNWezvAMtdsVN/",
      "include_colab_link": true
    },
    "kernelspec": {
      "name": "python3",
      "display_name": "Python 3"
    },
    "language_info": {
      "name": "python"
    },
    "accelerator": "GPU"
  },
  "cells": [
    {
      "cell_type": "markdown",
      "metadata": {
        "id": "view-in-github",
        "colab_type": "text"
      },
      "source": [
        "<a href=\"https://colab.research.google.com/github/Hamz-sh/Hamz-sh-Fire-detection-CNN-/blob/main/my_model.ipynb\" target=\"_parent\"><img src=\"https://colab.research.google.com/assets/colab-badge.svg\" alt=\"Open In Colab\"/></a>"
      ]
    },
    {
      "cell_type": "code",
      "execution_count": null,
      "metadata": {
        "id": "44uTFgEaqxdv"
      },
      "outputs": [],
      "source": [
        "import os\n",
        "import numpy as np\n",
        "import pandas as pd\n",
        "import matplotlib.pyplot as plt\n",
        "import seaborn as sns\n",
        "from matplotlib.image import imread\n",
        "import tensorflow as tf\n",
        "from tensorflow.keras.models import Sequential, load_model\n",
        "from tensorflow.keras.layers import Dense, Flatten, Conv2D, MaxPool2D, Dropout\n",
        "from tensorflow.keras.preprocessing.image import ImageDataGenerator\n",
        "from tensorflow.keras.callbacks import EarlyStopping\n",
        "\n",
        "\n",
        "!unzip /content/drive/MyDrive/Fire-Detection.zip\n",
        "data_dir = '/content/Fire-Detection'"
      ]
    },
    {
      "cell_type": "code",
      "source": [
        "test_path = data_dir+'/test'\n",
        "train_path = data_dir+'/train'\n",
        "train_ds = tf.keras.utils.image_dataset_from_directory(\n",
        "  train_path,\n",
        "  seed=123,\n",
        "  image_size=(668, 922), batch_size=32)\n",
        "\n",
        "val_ds = tf.keras.utils.image_dataset_from_directory(\n",
        "  test_path,\n",
        "  seed=123,\n",
        "  image_size=(668, 922), batch_size=1)"
      ],
      "metadata": {
        "id": "LZ5M0NMSamtG"
      },
      "execution_count": null,
      "outputs": []
    },
    {
      "cell_type": "code",
      "source": [
        "# showing an image\n",
        "dim1 = []\n",
        "dim2 = []\n",
        "for xyz in os.listdir(test_path+'/1'):\n",
        "    fire = test_path + '/1/' + xyz\n",
        "    img = imread(fire, 0)\n",
        "    d1, d2, colors = img.shape\n",
        "    dim1.append(d1)\n",
        "    dim2.append(d2)\n",
        "\n",
        "print(np.mean(dim1))\n",
        "print(np.mean(dim2))"
      ],
      "metadata": {
        "id": "Kq6TkbAezwW5"
      },
      "execution_count": null,
      "outputs": []
    },
    {
      "cell_type": "code",
      "source": [
        "from tensorflow import keras\n",
        "from tensorflow.keras import layers\n",
        "\n",
        "data_augmentation = keras.Sequential([layers.RandomFlip(\"horizontal\", input_shape= (668, 922, 3)), layers.RandomRotation(0.2), layers.RandomZoom(0.3)])\n",
        "\n",
        "plt.figure(figsize=(10, 10))\n",
        "for images, _ in train_ds.take(1):\n",
        "  for i in range(9):\n",
        "    augmented_images = data_augmentation(images)\n",
        "    ax = plt.subplot(3, 3, i + 1)\n",
        "    plt.imshow(augmented_images[0].numpy().astype(\"uint8\"))\n",
        "    plt.axis(\"off\")"
      ],
      "metadata": {
        "id": "ULzIHvMGYlZI"
      },
      "execution_count": null,
      "outputs": []
    },
    {
      "cell_type": "code",
      "source": [
        "# resizing the images by taking the average size of the images\n",
        "image_shape = (668, 922, 3)\n",
        "batch_size = 32\n",
        "\n",
        "\n",
        "# random image transformations\n",
        "image_gen = ImageDataGenerator(rotation_range=20, width_shift_range=0.1,\n",
        "                               height_shift_range=0.1, shear_range=0.1,\n",
        "                               zoom_range=0.1, fill_mode='nearest',\n",
        "                               rescale=1/255)\n",
        "train_gen = image_gen.flow_from_directory(train_path,\n",
        "                                          target_size=image_shape[:2], color_mode='rgb',\n",
        "                                          batch_size=batch_size, class_mode='binary')\n",
        "print(train_gen)\n",
        "test_gen = image_gen.flow_from_directory(test_path,\n",
        "                                         target_size=image_shape[:2], color_mode='rgb',\n",
        "                                         batch_size=batch_size, class_mode='binary', shuffle=False)\n",
        "print(test_gen)\n",
        "\n",
        "\n",
        "# Building model\n",
        "\n",
        "model = Sequential(data_augmentation)\n",
        "\n",
        "model.add(Conv2D(filters=64, kernel_size=(3, 3), strides=(1,2),input_shape=image_shape, activation='relu', padding='SAME'))\n",
        "model.add(MaxPool2D(pool_size=(2, 2)))\n",
        "\n",
        "model.add(Conv2D(filters=128, kernel_size=(3, 3), input_shape=image_shape, activation='relu', padding='SAME'))\n",
        "model.add(MaxPool2D(pool_size=(2, 2)))\n",
        "\n",
        "model.add(Conv2D(filters=128, kernel_size=(3, 3), input_shape=image_shape, activation='relu', padding='SAME'))\n",
        "model.add(MaxPool2D(pool_size=(2, 2)))\n",
        "\n",
        "model.add(Conv2D(filters=128, kernel_size=(3, 3), input_shape=image_shape, activation='relu', padding='SAME'))\n",
        "model.add(MaxPool2D(pool_size=(2, 2)))\n",
        "\n",
        "\n",
        "model.add(Flatten())\n",
        "\n",
        "model.add(Dense(128, activation='relu'))\n",
        "model.add(Dropout(0.5))\n",
        "\n",
        "model.add(Dense(1, activation='sigmoid'))\n",
        "\n",
        "model.compile(loss='binary_crossentropy', optimizer='adam', metrics=['accuracy'])\n",
        "model.summary()"
      ],
      "metadata": {
        "id": "Ox-aIUyx1QVX"
      },
      "execution_count": null,
      "outputs": []
    },
    {
      "cell_type": "code",
      "source": [
        "# Training model\n",
        "callbacks = EarlyStopping(monitor = 'val_loss',patience = 10, restore_best_weights=True)\n",
        "results = model.fit(train_ds, validation_data=val_ds, epochs = 30, batch_size = 32, callbacks = callbacks)\n",
        "md = pd.DataFrame(results.history)\n",
        "plt.plot(md[['loss','val_loss']])\n",
        "plt.show()\n",
        "len(val_ds)"
      ],
      "metadata": {
        "id": "AB4kNOGi4Oee"
      },
      "execution_count": null,
      "outputs": []
    },
    {
      "cell_type": "code",
      "source": [
        "# Testing model predictions on the validation data\n",
        "pred = model.predict(val_ds)\n",
        "predictions = pred > 0.5"
      ],
      "metadata": {
        "id": "SdE3DqI-C59f"
      },
      "execution_count": null,
      "outputs": []
    },
    {
      "cell_type": "code",
      "source": [
        "# Evaluating the model with confusion matrix and classification_report\n",
        "from sklearn.metrics import classification_report, confusion_matrix\n",
        "test_gen.classes\n",
        "print(classification_report(test_gen.classes, predictions))\n",
        "confusion_matrix(test_gen.classes,predictions)\n",
        "sns.heatmap(confusion_matrix(test_gen.classes,predictions), annot=True)"
      ],
      "metadata": {
        "id": "l4HwbD1ZTUxj"
      },
      "execution_count": null,
      "outputs": []
    },
    {
      "cell_type": "code",
      "source": [
        "# creating a confusion matrix\n",
        "confusion_matrix(test_gen.classes,predictions)\n",
        "sns.heatmap(confusion_matrix(test_gen.classes,predictions), annot=True)"
      ],
      "metadata": {
        "id": "aP7NBj1yMhss"
      },
      "execution_count": null,
      "outputs": []
    },
    {
      "cell_type": "code",
      "source": [
        "# saving the model\n",
        "model.save('my_model_n.h5')"
      ],
      "metadata": {
        "id": "jfuLZdGpO2Yv"
      },
      "execution_count": 12,
      "outputs": []
    }
  ]
}